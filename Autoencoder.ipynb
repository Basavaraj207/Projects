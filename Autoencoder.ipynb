{
  "nbformat": 4,
  "nbformat_minor": 0,
  "metadata": {
    "colab": {
      "provenance": [],
      "gpuType": "T4"
    },
    "kernelspec": {
      "name": "python3",
      "display_name": "Python 3"
    },
    "language_info": {
      "name": "python"
    },
    "accelerator": "GPU"
  },
  "cells": [
    {
      "cell_type": "code",
      "execution_count": null,
      "metadata": {
        "id": "VTp_p0-ggkPC",
        "colab": {
          "base_uri": "https://localhost:8080/"
        },
        "outputId": "916ff815-9a82-45a2-cdb9-7734f3cf37ff"
      },
      "outputs": [
        {
          "output_type": "stream",
          "name": "stdout",
          "text": [
            "downloading Olivetti faces from https://ndownloader.figshare.com/files/5976027 to /root/scikit_learn_data\n"
          ]
        }
      ],
      "source": [
        "import tensorflow as tf\n",
        "import numpy as np\n",
        "import matplotlib.pyplot as plt\n",
        "from tensorflow import keras\n",
        "from tensorflow.keras import layers\n",
        "from sklearn.datasets import fetch_olivetti_faces\n",
        "\n",
        "faces = fetch_olivetti_faces(shuffle=True, random_state=1000)\n",
        "X_train = faces['images']"
      ]
    },
    {
      "cell_type": "code",
      "source": [
        "width, height = 32, 32\n",
        "X_train = tf.image.resize(X_train[..., np.newaxis], (width, height))"
      ],
      "metadata": {
        "id": "VAblBhDag2qP"
      },
      "execution_count": null,
      "outputs": []
    },
    {
      "cell_type": "code",
      "source": [
        "nb_epochs = 20\n",
        "batch_size = 50\n",
        "code_length = 256"
      ],
      "metadata": {
        "id": "5mDjTaOMg8rd"
      },
      "execution_count": null,
      "outputs": []
    },
    {
      "cell_type": "code",
      "source": [
        "def add_noise(images, noise_factor=0.2):\n",
        "    noisy_images = images + noise_factor * tf.random.normal(shape=images.shape)\n",
        "    return tf.clip_by_value(noisy_images, 0.0, 1.0)"
      ],
      "metadata": {
        "id": "Dmccdq2ChCiR"
      },
      "execution_count": null,
      "outputs": []
    },
    {
      "cell_type": "code",
      "source": [
        "def build_autoencoder(input_shape, code_length=256):\n",
        "    input_img = keras.Input(shape=input_shape)\n",
        "\n",
        "    x = layers.Conv2D(16, (3, 3), strides=(2, 2), activation='relu', padding='same')(input_img)\n",
        "    x = layers.Conv2D(32, (3, 3), strides=(1, 1), activation='relu', padding='same')(x)\n",
        "    x = layers.Conv2D(64, (3, 3), strides=(1, 1), activation='relu', padding='same')(x)\n",
        "    x = layers.Conv2D(128, (3, 3), strides=(1, 1), activation='relu', padding='same')(x)\n",
        "    x = layers.Flatten()(x)\n",
        "    code_layer = layers.Dense(code_length, activation='sigmoid')(x)\n",
        "\n",
        "    x = layers.Dense((width // 2) * (height // 2) * 128, activation='relu')(code_layer)\n",
        "    x = layers.Reshape((width // 2, height // 2, 128))(x)\n",
        "    x = layers.Conv2DTranspose(128, (3, 3), strides=(2, 2), activation='relu', padding='same')(x)\n",
        "    x = layers.Conv2DTranspose(64, (3, 3), strides=(1, 1), activation='relu', padding='same')(x)\n",
        "    x = layers.Conv2DTranspose(32, (3, 3), strides=(1, 1), activation='relu', padding='same')(x)\n",
        "    output_img = layers.Conv2DTranspose(1, (3, 3), strides=(1, 1), activation='sigmoid', padding='same')(x)\n",
        "\n",
        "    autoencoder = keras.Model(input_img, output_img)\n",
        "    return autoencoder\n"
      ],
      "metadata": {
        "id": "AzCk0EZYhHAx"
      },
      "execution_count": null,
      "outputs": []
    },
    {
      "cell_type": "code",
      "source": [
        "input_shape = (width, height, 1)\n",
        "autoencoder = build_autoencoder(input_shape)\n",
        "\n",
        "autoencoder.compile(optimizer=keras.optimizers.Adam(learning_rate=0.001), loss='mse')"
      ],
      "metadata": {
        "id": "-qcWtyXuhJAO"
      },
      "execution_count": null,
      "outputs": []
    },
    {
      "cell_type": "code",
      "source": [
        "X_train_noisy = add_noise(X_train)\n",
        "autoencoder.fit(X_train_noisy, X_train, epochs=nb_epochs, batch_size=batch_size, shuffle=True)"
      ],
      "metadata": {
        "colab": {
          "base_uri": "https://localhost:8080/"
        },
        "id": "0JMkYaf4hOCV",
        "outputId": "d86deae5-a2dc-4cca-b3c2-528ba13fe837"
      },
      "execution_count": null,
      "outputs": [
        {
          "output_type": "stream",
          "name": "stdout",
          "text": [
            "Epoch 1/20\n",
            "\u001b[1m8/8\u001b[0m \u001b[32m━━━━━━━━━━━━━━━━━━━━\u001b[0m\u001b[37m\u001b[0m \u001b[1m23s\u001b[0m 1s/step - loss: 0.0263\n",
            "Epoch 2/20\n",
            "\u001b[1m8/8\u001b[0m \u001b[32m━━━━━━━━━━━━━━━━━━━━\u001b[0m\u001b[37m\u001b[0m \u001b[1m18s\u001b[0m 1s/step - loss: 0.0213\n",
            "Epoch 3/20\n",
            "\u001b[1m8/8\u001b[0m \u001b[32m━━━━━━━━━━━━━━━━━━━━\u001b[0m\u001b[37m\u001b[0m \u001b[1m19s\u001b[0m 1s/step - loss: 0.0200\n",
            "Epoch 4/20\n",
            "\u001b[1m8/8\u001b[0m \u001b[32m━━━━━━━━━━━━━━━━━━━━\u001b[0m\u001b[37m\u001b[0m \u001b[1m22s\u001b[0m 1s/step - loss: 0.0195\n",
            "Epoch 5/20\n",
            "\u001b[1m8/8\u001b[0m \u001b[32m━━━━━━━━━━━━━━━━━━━━\u001b[0m\u001b[37m\u001b[0m \u001b[1m20s\u001b[0m 1s/step - loss: 0.0182\n",
            "Epoch 6/20\n",
            "\u001b[1m8/8\u001b[0m \u001b[32m━━━━━━━━━━━━━━━━━━━━\u001b[0m\u001b[37m\u001b[0m \u001b[1m13s\u001b[0m 2s/step - loss: 0.0180\n",
            "Epoch 7/20\n",
            "\u001b[1m8/8\u001b[0m \u001b[32m━━━━━━━━━━━━━━━━━━━━\u001b[0m\u001b[37m\u001b[0m \u001b[1m19s\u001b[0m 1s/step - loss: 0.0178\n",
            "Epoch 8/20\n",
            "\u001b[1m8/8\u001b[0m \u001b[32m━━━━━━━━━━━━━━━━━━━━\u001b[0m\u001b[37m\u001b[0m \u001b[1m20s\u001b[0m 1s/step - loss: 0.0168\n",
            "Epoch 9/20\n",
            "\u001b[1m8/8\u001b[0m \u001b[32m━━━━━━━━━━━━━━━━━━━━\u001b[0m\u001b[37m\u001b[0m \u001b[1m11s\u001b[0m 1s/step - loss: 0.0157\n",
            "Epoch 10/20\n",
            "\u001b[1m8/8\u001b[0m \u001b[32m━━━━━━━━━━━━━━━━━━━━\u001b[0m\u001b[37m\u001b[0m \u001b[1m21s\u001b[0m 1s/step - loss: 0.0151\n",
            "Epoch 11/20\n",
            "\u001b[1m8/8\u001b[0m \u001b[32m━━━━━━━━━━━━━━━━━━━━\u001b[0m\u001b[37m\u001b[0m \u001b[1m20s\u001b[0m 1s/step - loss: 0.0148\n",
            "Epoch 12/20\n",
            "\u001b[1m8/8\u001b[0m \u001b[32m━━━━━━━━━━━━━━━━━━━━\u001b[0m\u001b[37m\u001b[0m \u001b[1m20s\u001b[0m 1s/step - loss: 0.0138\n",
            "Epoch 13/20\n",
            "\u001b[1m8/8\u001b[0m \u001b[32m━━━━━━━━━━━━━━━━━━━━\u001b[0m\u001b[37m\u001b[0m \u001b[1m21s\u001b[0m 1s/step - loss: 0.0131\n",
            "Epoch 14/20\n",
            "\u001b[1m8/8\u001b[0m \u001b[32m━━━━━━━━━━━━━━━━━━━━\u001b[0m\u001b[37m\u001b[0m \u001b[1m20s\u001b[0m 1s/step - loss: 0.0121\n",
            "Epoch 15/20\n",
            "\u001b[1m8/8\u001b[0m \u001b[32m━━━━━━━━━━━━━━━━━━━━\u001b[0m\u001b[37m\u001b[0m \u001b[1m12s\u001b[0m 1s/step - loss: 0.0121\n",
            "Epoch 16/20\n",
            "\u001b[1m8/8\u001b[0m \u001b[32m━━━━━━━━━━━━━━━━━━━━\u001b[0m\u001b[37m\u001b[0m \u001b[1m21s\u001b[0m 1s/step - loss: 0.0112\n",
            "Epoch 17/20\n",
            "\u001b[1m8/8\u001b[0m \u001b[32m━━━━━━━━━━━━━━━━━━━━\u001b[0m\u001b[37m\u001b[0m \u001b[1m11s\u001b[0m 1s/step - loss: 0.0106\n",
            "Epoch 18/20\n",
            "\u001b[1m8/8\u001b[0m \u001b[32m━━━━━━━━━━━━━━━━━━━━\u001b[0m\u001b[37m\u001b[0m \u001b[1m21s\u001b[0m 1s/step - loss: 0.0101\n",
            "Epoch 19/20\n",
            "\u001b[1m8/8\u001b[0m \u001b[32m━━━━━━━━━━━━━━━━━━━━\u001b[0m\u001b[37m\u001b[0m \u001b[1m11s\u001b[0m 1s/step - loss: 0.0098\n",
            "Epoch 20/20\n",
            "\u001b[1m8/8\u001b[0m \u001b[32m━━━━━━━━━━━━━━━━━━━━\u001b[0m\u001b[37m\u001b[0m \u001b[1m11s\u001b[0m 1s/step - loss: 0.0096\n"
          ]
        },
        {
          "output_type": "execute_result",
          "data": {
            "text/plain": [
              "<keras.src.callbacks.history.History at 0x7d5ba117ef10>"
            ]
          },
          "metadata": {},
          "execution_count": 7
        }
      ]
    },
    {
      "cell_type": "code",
      "source": [
        "def show_images(original, reconstructed, num=5):\n",
        "    plt.figure(figsize=(10, 4))\n",
        "    for i in range(num):\n",
        "        plt.subplot(2, num, i + 1)\n",
        "        plt.imshow(original[i].squeeze(), cmap='gray')\n",
        "        plt.axis('off')\n",
        "        plt.title(\"Original\")\n",
        "\n",
        "        plt.subplot(2, num, num + i + 1)\n",
        "        plt.imshow(reconstructed[i].squeeze(), cmap='gray')\n",
        "        plt.axis('off')\n",
        "        plt.title(\"Reconstructed\")\n",
        "\n",
        "    plt.show()\n",
        "\n",
        "X_train_noisy = X_train_noisy.numpy() if isinstance(X_train_noisy, tf.Tensor) else X_train_noisy\n",
        "\n",
        "reconstructed_images = autoencoder.predict(X_train_noisy[:5])\n",
        "show_images(X_train_noisy, reconstructed_images)"
      ],
      "metadata": {
        "colab": {
          "base_uri": "https://localhost:8080/",
          "height": 323
        },
        "id": "urnc3qTMnhrQ",
        "outputId": "bd7d0075-f4c0-4400-bba7-43f37a7a5244"
      },
      "execution_count": null,
      "outputs": [
        {
          "output_type": "stream",
          "name": "stdout",
          "text": [
            "\u001b[1m1/1\u001b[0m \u001b[32m━━━━━━━━━━━━━━━━━━━━\u001b[0m\u001b[37m\u001b[0m \u001b[1m0s\u001b[0m 275ms/step\n"
          ]
        },
        {
          "output_type": "display_data",
          "data": {
            "text/plain": [
              "<Figure size 1000x400 with 10 Axes>"
            ],
            "image/png": "[encoded data removed]"
          },
          "metadata": {}
        }
      ]
    },
    {
      "cell_type": "code",
      "source": [
        "import numpy as np\n",
        "\n",
        "# Get the encoder and decoder layers (adjust indices based on your model structure)\n",
        "encoder_layers = [layer for layer in autoencoder.layers if isinstance(layer, (layers.Conv2D, layers.Dense)) and not isinstance(layer, layers.Conv2DTranspose)]\n",
        "decoder_layers = [layer for layer in autoencoder.layers if isinstance(layer, (layers.Conv2DTranspose, layers.Dense)) and not isinstance(layer, layers.Conv2D)]\n",
        "\n",
        "# Save encoder weights and biases\n",
        "for i, layer in enumerate(encoder_layers):\n",
        "    weights = layer.get_weights()\n",
        "    np.savetxt(f'encoder_layer_{i}_weights.txt', weights[0].flatten())\n",
        "    if len(weights) > 1:\n",
        "        np.savetxt(f'encoder_layer_{i}_biases.txt', weights[1].flatten())\n",
        "\n",
        "# Save decoder weights and biases\n",
        "for i, layer in enumerate(decoder_layers):\n",
        "    weights = layer.get_weights()\n",
        "    np.savetxt(f'decoder_layer_{i}_weights.txt', weights[0].flatten())\n",
        "    if len(weights) > 1:\n",
        "        np.savetxt(f'decoder_layer_{i}_biases.txt', weights[1].flatten())\n",
        "\n",
        "# Save one input image\n",
        "one_input_image = X_train_noisy[0]\n",
        "np.savetxt('input_image_pixels.txt', one_input_image.flatten())\n",
        "\n",
        "print(\"Encoder weights, decoder weights, and input image pixel values saved to text files.\")"
      ],
      "metadata": {
        "colab": {
          "base_uri": "https://localhost:8080/"
        },
        "id": "9DYkqkpgAqcN",
        "outputId": "7139ca8f-6717-4975-f60f-9678888944d0"
      },
      "execution_count": null,
      "outputs": [
        {
          "output_type": "stream",
          "name": "stdout",
          "text": [
            "Encoder weights, decoder weights, and input image pixel values saved to text files.\n"
          ]
        }
      ]
    },
    {
      "cell_type": "code",
      "source": [
        "import numpy as np\n",
        "\n",
        "# Specify the file you want to convert\n",
        "input_filename = 'encoder_layer_0_weights.txt'\n",
        "output_filename = 'encoder_layer_0_weights_binary_separated.txt'\n",
        "\n",
        "# Read the floating-point values\n",
        "float_values = np.loadtxt(input_filename)\n",
        "\n",
        "# Convert to 8-bit integers (assuming values are between 0 and 1)\n",
        "int_values = (float_values * 255).astype(np.uint8)\n",
        "\n",
        "# Convert each integer to an 8-bit binary string\n",
        "binary_strings = [f'{val:08b}' for val in int_values]\n",
        "\n",
        "# Save each binary string to a new line in the text file\n",
        "with open(output_filename, 'w') as f:\n",
        "    for binary_str in binary_strings:\n",
        "        f.write(binary_str + '\\n')\n",
        "\n",
        "print(f\"Converted {input_filename} to 8-bit binary, one per line, in {output_filename}\")"
      ],
      "metadata": {
        "colab": {
          "base_uri": "https://localhost:8080/"
        },
        "id": "Oy7Ji5nwDHtz",
        "outputId": "515cfce4-7418-4df7-f5ef-63cbac2bf235"
      },
      "execution_count": null,
      "outputs": [
        {
          "output_type": "stream",
          "name": "stdout",
          "text": [
            "Converted encoder_layer_0_weights.txt to 8-bit binary, one per line, in encoder_layer_0_weights_binary_separated.txt\n"
          ]
        }
      ]
    }
  ]
}